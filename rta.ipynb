{
 "cells": [
  {
   "cell_type": "code",
   "execution_count": 2,
   "id": "75b2287d",
   "metadata": {},
   "outputs": [
    {
     "data": {
      "text/plain": [
       "['model.pkl']"
      ]
     },
     "execution_count": 2,
     "metadata": {},
     "output_type": "execute_result"
    }
   ],
   "source": [
    "# Load libraries\n",
    "import pickle\n",
    "from sklearn.linear_model import LogisticRegression\n",
    "from sklearn import datasets\n",
    "import joblib\n",
    "\n",
    "# Load the iris data\n",
    "iris = datasets.load_iris()\n",
    "\n",
    "# Create a matrix, X, of features and a vector, y.\n",
    "X, y = iris.data, iris.target\n",
    "\n",
    "# Train a naive logistic regression model\n",
    "clf = LogisticRegression(random_state=0, solver='liblinear', multi_class='auto')\n",
    "clf.fit(X, y)\n",
    "\n",
    "# Save the trained model as a pickle string.\n",
    "saved_model = pickle.dumps(clf)\n",
    "\n",
    "# Save the model as a pickle in a file\n",
    "joblib.dump(clf, 'model.pkl')"
   ]
  },
  {
   "cell_type": "code",
   "execution_count": null,
   "id": "1888c15f",
   "metadata": {},
   "outputs": [],
   "source": []
  }
 ],
 "metadata": {
  "kernelspec": {
   "display_name": "Python 3 (ipykernel)",
   "language": "python",
   "name": "python3"
  },
  "language_info": {
   "codemirror_mode": {
    "name": "ipython",
    "version": 3
   },
   "file_extension": ".py",
   "mimetype": "text/x-python",
   "name": "python",
   "nbconvert_exporter": "python",
   "pygments_lexer": "ipython3",
   "version": "3.7.3"
  }
 },
 "nbformat": 4,
 "nbformat_minor": 5
}
